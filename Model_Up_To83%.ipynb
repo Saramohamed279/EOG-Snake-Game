{
 "cells": [
  {
   "cell_type": "markdown",
   "id": "f6d90839",
   "metadata": {},
   "source": [
    "# Preparing Data"
   ]
  },
  {
   "cell_type": "code",
   "execution_count": 15,
   "id": "ec27b48d",
   "metadata": {},
   "outputs": [],
   "source": [
    "import glob\n",
    "import re\n",
    "import numpy as np \n",
    "import matplotlib.pyplot as plt\n",
    "import pandas as pd\n",
    "from pywt import wavedec\n",
    "import pywt\n",
    "from sklearn.model_selection import train_test_split\n",
    "from sklearn.preprocessing import MinMaxScaler\n",
    "from sklearn.preprocessing import StandardScaler\n",
    "from sklearn import metrics\n",
    "from sklearn.metrics import confusion_matrix\n",
    "from sklearn.metrics import confusion_matrix,mean_squared_error,precision_score,recall_score,f1_score\n",
    "import seaborn as sns\n",
    "from mlxtend.plotting import plot_confusion_matrix\n",
    "from sklearn.metrics import classification_report , roc_curve, f1_score, accuracy_score, recall_score , roc_auc_score,make_scorer\n",
    "from sklearn.svm import LinearSVC\n",
    "from sklearn.ensemble import RandomForestClassifier ,  GradientBoostingClassifier \n",
    "from sklearn.neighbors import KNeighborsClassifier\n",
    "from scipy.stats import randint\n",
    "from sklearn.model_selection import RandomizedSearchCV\n",
    "from sklearn.linear_model import LogisticRegression\n",
    "from sklearn.svm import SVC\n",
    "from scipy import signal\n",
    "from scipy.signal import butter, filtfilt\n",
    "from sklearn.tree import DecisionTreeClassifier\n",
    "from sklearn.model_selection import GridSearchCV\n",
    "\n"
   ]
  },
  {
   "cell_type": "code",
   "execution_count": 2,
   "id": "c2e2b156",
   "metadata": {},
   "outputs": [],
   "source": [
    "# Dataset Classes:\n",
    "# ________________\n",
    "\n",
    "# Yukari-->Up\n",
    "# Asagi-->Down\n",
    "# Sag-->Right \n",
    "# Sol-->Left\n",
    "# Kirp-->Blink "
   ]
  },
  {
   "cell_type": "code",
   "execution_count": 3,
   "id": "354a3650",
   "metadata": {},
   "outputs": [],
   "source": [
    "# Define the class labels\n",
    "class_labels = {\n",
    "    'yukari': 0,\n",
    "    'yukarı':0 ,\n",
    "    'yukarih': 0,\n",
    "    'yukarıh':0 ,\n",
    "    'yukari': 0,\n",
    "    'asagi': 1,\n",
    "    'sag': 2,\n",
    "    'sol': 3,\n",
    "    'kirp': 4\n",
    "}"
   ]
  },
  {
   "cell_type": "code",
   "execution_count": 4,
   "id": "8ef5c075",
   "metadata": {},
   "outputs": [],
   "source": [
    "class_names = {\n",
    "    0: 'Up',\n",
    "    1: 'Down',\n",
    "    2: 'Right',\n",
    "    3: 'Left',\n",
    "    4: 'Blink'\n",
    "}"
   ]
  },
  {
   "cell_type": "code",
   "execution_count": 5,
   "id": "a246990d",
   "metadata": {},
   "outputs": [],
   "source": [
    " h=[]\n",
    "classes=class_labels.keys()"
   ]
  },
  {
   "cell_type": "code",
   "execution_count": 6,
   "id": "8b759c8d",
   "metadata": {},
   "outputs": [
    {
     "data": {
      "text/plain": [
       "dict_keys(['yukari', 'yukarı', 'yukarih', 'yukarıh', 'asagi', 'sag', 'sol', 'kirp'])"
      ]
     },
     "execution_count": 6,
     "metadata": {},
     "output_type": "execute_result"
    }
   ],
   "source": [
    "classes"
   ]
  },
  {
   "cell_type": "code",
   "execution_count": 7,
   "id": "3bf16661",
   "metadata": {},
   "outputs": [
    {
     "name": "stdout",
     "output_type": "stream",
     "text": [
      "3-class\\asagi10h.txt\n",
      "3-class\\asagi10v.txt\n",
      "3-class\\asagi11h.txt\n",
      "3-class\\asagi11v.txt\n",
      "3-class\\asagi12h.txt\n",
      "3-class\\asagi12v.txt\n",
      "3-class\\asagi13h.txt\n",
      "3-class\\asagi13v.txt\n",
      "3-class\\asagi14h.txt\n",
      "3-class\\asagi14v.txt\n",
      "3-class\\asagi15h.txt\n",
      "3-class\\asagi15v.txt\n",
      "3-class\\asagi16h.txt\n",
      "3-class\\asagi16v.txt\n",
      "3-class\\asagi17h.txt\n",
      "3-class\\asagi17v.txt\n",
      "3-class\\asagi18h.txt\n",
      "3-class\\asagi18v.txt\n",
      "3-class\\asagi19h.txt\n",
      "3-class\\asagi19v.txt\n",
      "3-class\\asagi1h.txt\n",
      "3-class\\asagi1v.txt\n",
      "3-class\\asagi20h.txt\n",
      "3-class\\asagi20v.txt\n",
      "3-class\\asagi2h.txt\n",
      "3-class\\asagi2v.txt\n",
      "3-class\\asagi3h.txt\n",
      "3-class\\asagi3v.txt\n",
      "3-class\\asagi4h.txt\n",
      "3-class\\asagi4v.txt\n",
      "3-class\\asagi5h.txt\n",
      "3-class\\asagi5v.txt\n",
      "3-class\\asagi6h.txt\n",
      "3-class\\asagi6v.txt\n",
      "3-class\\asagi7h.txt\n",
      "3-class\\asagi7v.txt\n",
      "3-class\\asagi8h.txt\n",
      "3-class\\asagi8v.txt\n",
      "3-class\\asagi9h.txt\n",
      "3-class\\asagi9v.txt\n",
      "3-class\\Edit2.txt\n",
      "3-class\\Edit2h.txt\n",
      "3-class\\Edit2v.txt\n",
      "3-class\\kayit.txt\n",
      "3-class\\kirp10h.txt\n",
      "3-class\\kirp10v.txt\n",
      "3-class\\kirp111h.txt\n",
      "3-class\\kirp11h.txt\n",
      "3-class\\kirp11v.txt\n",
      "3-class\\kirp12h.txt\n",
      "3-class\\kirp12v.txt\n",
      "3-class\\kirp13h.txt\n",
      "3-class\\kirp13v.txt\n",
      "3-class\\kirp14h.txt\n",
      "3-class\\kirp14v.txt\n",
      "3-class\\kirp15h.txt\n",
      "3-class\\kirp15v.txt\n",
      "3-class\\kirp16h.txt\n",
      "3-class\\kirp16v.txt\n",
      "3-class\\kirp17h.txt\n",
      "3-class\\kirp17v.txt\n",
      "3-class\\kirp18h.txt\n",
      "3-class\\kirp18v.txt\n",
      "3-class\\kirp19h.txt\n",
      "3-class\\kirp19v.txt\n",
      "3-class\\kirp1h.txt\n",
      "3-class\\kirp1v.txt\n",
      "3-class\\kirp20h.txt\n",
      "3-class\\kirp20v.txt\n",
      "3-class\\kirp2h.txt\n",
      "3-class\\kirp2v.txt\n",
      "3-class\\kirp3h.txt\n",
      "3-class\\kirp3v.txt\n",
      "3-class\\kirp4h.txt\n",
      "3-class\\kirp4v.txt\n",
      "3-class\\kirp5h.txt\n",
      "3-class\\kirp5v.txt\n",
      "3-class\\kirp6h.txt\n",
      "3-class\\kirp6v.txt\n",
      "3-class\\kirp7h.txt\n",
      "3-class\\kirp7v.txt\n",
      "3-class\\kirp8h.txt\n",
      "3-class\\kirp8v.txt\n",
      "3-class\\kirp9h.txt\n",
      "3-class\\kirp9v.txt\n",
      "3-class\\sag10h.txt\n",
      "3-class\\sag10v.txt\n",
      "3-class\\sag11h.txt\n",
      "3-class\\sag11v.txt\n",
      "3-class\\sag12h.txt\n",
      "3-class\\sag12v.txt\n",
      "3-class\\sag13h.txt\n",
      "3-class\\sag13v.txt\n",
      "3-class\\sag14h.txt\n",
      "3-class\\sag14v.txt\n",
      "3-class\\sag15h.txt\n",
      "3-class\\sag15v.txt\n",
      "3-class\\sag16h.txt\n",
      "3-class\\sag16v.txt\n",
      "3-class\\sag17h.txt\n",
      "3-class\\sag17v.txt\n",
      "3-class\\sag18h.txt\n",
      "3-class\\sag18v.txt\n",
      "3-class\\sag19h.txt\n",
      "3-class\\sag19v.txt\n",
      "3-class\\sag1h.txt\n",
      "3-class\\sag1v.txt\n",
      "3-class\\sag20h.txt\n",
      "3-class\\sag20v.txt\n",
      "3-class\\sag2h.txt\n",
      "3-class\\sag2v.txt\n",
      "3-class\\sag3h.txt\n",
      "3-class\\sag3v.txt\n",
      "3-class\\sag4h.txt\n",
      "3-class\\sag4v.txt\n",
      "3-class\\sag5h.txt\n",
      "3-class\\sag5v.txt\n",
      "3-class\\sag6h.txt\n",
      "3-class\\sag6v.txt\n",
      "3-class\\sag7h.txt\n",
      "3-class\\sag7v.txt\n",
      "3-class\\sag8h.txt\n",
      "3-class\\sag8v.txt\n",
      "3-class\\sag9h.txt\n",
      "3-class\\sag9v.txt\n",
      "3-class\\serkanh.txt\n",
      "3-class\\serkanv.txt\n",
      "3-class\\sol10h.txt\n",
      "3-class\\sol10v.txt\n",
      "3-class\\sol11h.txt\n",
      "3-class\\sol11v.txt\n",
      "3-class\\sol12h.txt\n",
      "3-class\\sol12v.txt\n",
      "3-class\\sol13h.txt\n",
      "3-class\\sol13v.txt\n",
      "3-class\\sol14h.txt\n",
      "3-class\\sol14v.txt\n",
      "3-class\\sol15h.txt\n",
      "3-class\\sol15v.txt\n",
      "3-class\\sol16h.txt\n",
      "3-class\\sol16v.txt\n",
      "3-class\\sol17h.txt\n",
      "3-class\\sol17v.txt\n",
      "3-class\\sol18h.txt\n",
      "3-class\\sol18v.txt\n",
      "3-class\\sol19h.txt\n",
      "3-class\\sol19v.txt\n",
      "3-class\\sol1h.txt\n",
      "3-class\\sol1v.txt\n",
      "3-class\\sol20h.txt\n",
      "3-class\\sol20v.txt\n",
      "3-class\\sol2h.txt\n",
      "3-class\\sol2v.txt\n",
      "3-class\\sol3h.txt\n",
      "3-class\\sol3v.txt\n",
      "3-class\\sol4h.txt\n",
      "3-class\\sol4v.txt\n",
      "3-class\\sol5h.txt\n",
      "3-class\\sol5v.txt\n",
      "3-class\\sol6h.txt\n",
      "3-class\\sol6v.txt\n",
      "3-class\\sol7h.txt\n",
      "3-class\\sol7v.txt\n",
      "3-class\\sol8h.txt\n",
      "3-class\\sol8v.txt\n",
      "3-class\\sol9h.txt\n",
      "3-class\\sol9v.txt\n",
      "3-class\\yukari10h.txt\n",
      "3-class\\yukari10v.txt\n",
      "3-class\\yukari11h.txt\n",
      "3-class\\yukari11v.txt\n",
      "3-class\\yukari12h.txt\n",
      "3-class\\yukari12v.txt\n",
      "3-class\\yukari13h.txt\n",
      "3-class\\yukari13v.txt\n",
      "3-class\\yukari14h.txt\n",
      "3-class\\yukari14v.txt\n",
      "3-class\\yukari15h.txt\n",
      "3-class\\yukari15v.txt\n",
      "3-class\\yukari16h.txt\n",
      "3-class\\yukari16v.txt\n",
      "3-class\\yukari17h.txt\n",
      "3-class\\yukari17v.txt\n",
      "3-class\\yukari18h.txt\n",
      "3-class\\yukari18v.txt\n",
      "3-class\\yukari19h.txt\n",
      "3-class\\yukari19v.txt\n",
      "3-class\\yukari1h.txt\n",
      "3-class\\yukari1v.txt\n",
      "3-class\\yukari20h.txt\n",
      "3-class\\yukari20v.txt\n",
      "3-class\\yukari2h.txt\n",
      "3-class\\yukari2v.txt\n",
      "3-class\\yukari3h.txt\n",
      "3-class\\yukari3v.txt\n",
      "3-class\\yukari4h.txt\n",
      "3-class\\yukari4v.txt\n",
      "3-class\\yukari5h.txt\n",
      "3-class\\yukari5v.txt\n",
      "3-class\\yukari6h.txt\n",
      "3-class\\yukari6v.txt\n",
      "3-class\\yukari7h.txt\n",
      "3-class\\yukari7v.txt\n",
      "3-class\\yukari8h.txt\n",
      "3-class\\yukari8v.txt\n",
      "3-class\\yukari9h.txt\n",
      "3-class\\yukari9v.txt\n",
      "3-class\\yukarih.txt\n",
      "3-class\\yukarı10h.txt\n",
      "3-class\\yukarı11h.txt\n",
      "3-class\\yukarı12h.txt\n",
      "3-class\\yukarı13h.txt\n",
      "3-class\\yukarı14h.txt\n",
      "3-class\\yukarı15h.txt\n",
      "3-class\\yukarı16h.txt\n",
      "3-class\\yukarı17h.txt\n",
      "3-class\\yukarı18h.txt\n",
      "3-class\\yukarı19h.txt\n",
      "3-class\\yukarı1h.txt\n",
      "3-class\\yukarı20h.txt\n",
      "3-class\\yukarı2h.txt\n",
      "3-class\\yukarı3h.txt\n",
      "3-class\\yukarı4h.txt\n",
      "3-class\\yukarı5h.txt\n",
      "3-class\\yukarı6h.txt\n",
      "3-class\\yukarı7h.txt\n",
      "3-class\\yukarı8h.txt\n",
      "3-class\\yukarı9h.txt\n",
      "3-class\\yukarıh.txt\n",
      "3-class\\örnek1.txt\n",
      "3-class\\örnek10h.txt\n",
      "3-class\\örnek11h.txt\n",
      "3-class\\örnek12h.txt\n",
      "3-class\\örnek13h.txt\n",
      "3-class\\örnek14h.txt\n",
      "3-class\\örnek15h.txt\n",
      "3-class\\örnek16h.txt\n",
      "3-class\\örnek17h.txt\n",
      "3-class\\örnek18h.txt\n",
      "3-class\\örnek19h.txt\n",
      "3-class\\örnek1h.txt\n",
      "3-class\\örnek2.txt\n",
      "3-class\\örnek20h.txt\n",
      "3-class\\örnek21h.txt\n",
      "3-class\\örnek22h.txt\n",
      "3-class\\örnek23h.txt\n",
      "3-class\\örnek24h.txt\n",
      "3-class\\örnek25h.txt\n",
      "3-class\\örnek26h.txt\n",
      "3-class\\örnek27h.txt\n",
      "3-class\\örnek28h.txt\n",
      "3-class\\örnek29h.txt\n",
      "3-class\\örnek2h.txt\n",
      "3-class\\örnek3.txt\n",
      "3-class\\örnek30h.txt\n",
      "3-class\\örnek31h.txt\n",
      "3-class\\örnek32h.txt\n",
      "3-class\\örnek33h.txt\n",
      "3-class\\örnek34h.txt\n",
      "3-class\\örnek35h.txt\n",
      "3-class\\örnek36h.txt\n",
      "3-class\\örnek37h.txt\n",
      "3-class\\örnek38h.txt\n",
      "3-class\\örnek39h.txt\n",
      "3-class\\örnek3h.txt\n",
      "3-class\\örnek4.txt\n",
      "3-class\\örnek40h.txt\n",
      "3-class\\örnek4h.txt\n",
      "3-class\\örnek5.txt\n",
      "3-class\\örnek5h.txt\n",
      "3-class\\örnek6.txt\n",
      "3-class\\örnek6h.txt\n",
      "3-class\\örnek7.txt\n",
      "3-class\\örnek7h.txt\n",
      "3-class\\örnek8.txt\n",
      "3-class\\örnek8h.txt\n",
      "3-class\\örnek9.txt\n",
      "3-class\\örnek9h.txt\n"
     ]
    }
   ],
   "source": [
    " with open('data handling.csv', 'a') as csv_file:\n",
    "        for filename in glob.glob('3-class/*.txt'):\n",
    "            # Get the class label from the filename\n",
    "\n",
    "            print(filename)\n",
    "            h = filename.split('\\\\')[-1].split('.')[0]\n",
    "            matches = re.split(r'(\\d+)', h)\n",
    "            \n",
    "            if matches[0] in classes:\n",
    "                with open(filename, 'r') as file:\n",
    "                    # Read the contents of the file and split it into lines\n",
    "                    lines = file.read()\n",
    "                lines=lines.replace('\\n',',')\n",
    "                for line in lines:\n",
    "                    csv_file.write(line)\n",
    "                label = class_labels[matches[0]]\n",
    "                csv_file.write(str(label)+'\\n')"
   ]
  },
  {
   "cell_type": "markdown",
   "id": "cce08db5",
   "metadata": {},
   "source": [
    "# Load data"
   ]
  },
  {
   "cell_type": "code",
   "execution_count": 2,
   "id": "2189236a",
   "metadata": {},
   "outputs": [],
   "source": [
    "names=np.arange(0,252)"
   ]
  },
  {
   "cell_type": "code",
   "execution_count": 3,
   "id": "f35ae634",
   "metadata": {},
   "outputs": [
    {
     "data": {
      "text/plain": [
       "array([  0,   1,   2,   3,   4,   5,   6,   7,   8,   9,  10,  11,  12,\n",
       "        13,  14,  15,  16,  17,  18,  19,  20,  21,  22,  23,  24,  25,\n",
       "        26,  27,  28,  29,  30,  31,  32,  33,  34,  35,  36,  37,  38,\n",
       "        39,  40,  41,  42,  43,  44,  45,  46,  47,  48,  49,  50,  51,\n",
       "        52,  53,  54,  55,  56,  57,  58,  59,  60,  61,  62,  63,  64,\n",
       "        65,  66,  67,  68,  69,  70,  71,  72,  73,  74,  75,  76,  77,\n",
       "        78,  79,  80,  81,  82,  83,  84,  85,  86,  87,  88,  89,  90,\n",
       "        91,  92,  93,  94,  95,  96,  97,  98,  99, 100, 101, 102, 103,\n",
       "       104, 105, 106, 107, 108, 109, 110, 111, 112, 113, 114, 115, 116,\n",
       "       117, 118, 119, 120, 121, 122, 123, 124, 125, 126, 127, 128, 129,\n",
       "       130, 131, 132, 133, 134, 135, 136, 137, 138, 139, 140, 141, 142,\n",
       "       143, 144, 145, 146, 147, 148, 149, 150, 151, 152, 153, 154, 155,\n",
       "       156, 157, 158, 159, 160, 161, 162, 163, 164, 165, 166, 167, 168,\n",
       "       169, 170, 171, 172, 173, 174, 175, 176, 177, 178, 179, 180, 181,\n",
       "       182, 183, 184, 185, 186, 187, 188, 189, 190, 191, 192, 193, 194,\n",
       "       195, 196, 197, 198, 199, 200, 201, 202, 203, 204, 205, 206, 207,\n",
       "       208, 209, 210, 211, 212, 213, 214, 215, 216, 217, 218, 219, 220,\n",
       "       221, 222, 223, 224, 225, 226, 227, 228, 229, 230, 231, 232, 233,\n",
       "       234, 235, 236, 237, 238, 239, 240, 241, 242, 243, 244, 245, 246,\n",
       "       247, 248, 249, 250, 251])"
      ]
     },
     "execution_count": 3,
     "metadata": {},
     "output_type": "execute_result"
    }
   ],
   "source": [
    "names"
   ]
  },
  {
   "cell_type": "code",
   "execution_count": 4,
   "id": "ab175383",
   "metadata": {},
   "outputs": [],
   "source": [
    "data =pd.read_csv('data handling.csv',names=names)"
   ]
  },
  {
   "cell_type": "code",
   "execution_count": 5,
   "id": "b60c4e2f",
   "metadata": {
    "scrolled": true
   },
   "outputs": [
    {
     "data": {
      "text/html": [
       "<div>\n",
       "<style scoped>\n",
       "    .dataframe tbody tr th:only-of-type {\n",
       "        vertical-align: middle;\n",
       "    }\n",
       "\n",
       "    .dataframe tbody tr th {\n",
       "        vertical-align: top;\n",
       "    }\n",
       "\n",
       "    .dataframe thead th {\n",
       "        text-align: right;\n",
       "    }\n",
       "</style>\n",
       "<table border=\"1\" class=\"dataframe\">\n",
       "  <thead>\n",
       "    <tr style=\"text-align: right;\">\n",
       "      <th></th>\n",
       "      <th>0</th>\n",
       "      <th>1</th>\n",
       "      <th>2</th>\n",
       "      <th>3</th>\n",
       "      <th>4</th>\n",
       "      <th>5</th>\n",
       "      <th>6</th>\n",
       "      <th>7</th>\n",
       "      <th>8</th>\n",
       "      <th>9</th>\n",
       "      <th>...</th>\n",
       "      <th>242</th>\n",
       "      <th>243</th>\n",
       "      <th>244</th>\n",
       "      <th>245</th>\n",
       "      <th>246</th>\n",
       "      <th>247</th>\n",
       "      <th>248</th>\n",
       "      <th>249</th>\n",
       "      <th>250</th>\n",
       "      <th>251</th>\n",
       "    </tr>\n",
       "  </thead>\n",
       "  <tbody>\n",
       "    <tr>\n",
       "      <th>0</th>\n",
       "      <td>123</td>\n",
       "      <td>126</td>\n",
       "      <td>134</td>\n",
       "      <td>131</td>\n",
       "      <td>125</td>\n",
       "      <td>131</td>\n",
       "      <td>130</td>\n",
       "      <td>127</td>\n",
       "      <td>133</td>\n",
       "      <td>128</td>\n",
       "      <td>...</td>\n",
       "      <td>143</td>\n",
       "      <td>139</td>\n",
       "      <td>143</td>\n",
       "      <td>141</td>\n",
       "      <td>139</td>\n",
       "      <td>138</td>\n",
       "      <td>142</td>\n",
       "      <td>136</td>\n",
       "      <td>137</td>\n",
       "      <td>1</td>\n",
       "    </tr>\n",
       "    <tr>\n",
       "      <th>1</th>\n",
       "      <td>123</td>\n",
       "      <td>122</td>\n",
       "      <td>127</td>\n",
       "      <td>130</td>\n",
       "      <td>123</td>\n",
       "      <td>123</td>\n",
       "      <td>127</td>\n",
       "      <td>128</td>\n",
       "      <td>125</td>\n",
       "      <td>125</td>\n",
       "      <td>...</td>\n",
       "      <td>134</td>\n",
       "      <td>133</td>\n",
       "      <td>130</td>\n",
       "      <td>136</td>\n",
       "      <td>135</td>\n",
       "      <td>130</td>\n",
       "      <td>139</td>\n",
       "      <td>136</td>\n",
       "      <td>129</td>\n",
       "      <td>1</td>\n",
       "    </tr>\n",
       "    <tr>\n",
       "      <th>2</th>\n",
       "      <td>127</td>\n",
       "      <td>135</td>\n",
       "      <td>130</td>\n",
       "      <td>135</td>\n",
       "      <td>129</td>\n",
       "      <td>127</td>\n",
       "      <td>133</td>\n",
       "      <td>131</td>\n",
       "      <td>130</td>\n",
       "      <td>132</td>\n",
       "      <td>...</td>\n",
       "      <td>143</td>\n",
       "      <td>140</td>\n",
       "      <td>139</td>\n",
       "      <td>144</td>\n",
       "      <td>142</td>\n",
       "      <td>139</td>\n",
       "      <td>139</td>\n",
       "      <td>143</td>\n",
       "      <td>134</td>\n",
       "      <td>1</td>\n",
       "    </tr>\n",
       "    <tr>\n",
       "      <th>3</th>\n",
       "      <td>120</td>\n",
       "      <td>132</td>\n",
       "      <td>120</td>\n",
       "      <td>127</td>\n",
       "      <td>126</td>\n",
       "      <td>125</td>\n",
       "      <td>120</td>\n",
       "      <td>125</td>\n",
       "      <td>122</td>\n",
       "      <td>118</td>\n",
       "      <td>...</td>\n",
       "      <td>128</td>\n",
       "      <td>137</td>\n",
       "      <td>131</td>\n",
       "      <td>124</td>\n",
       "      <td>133</td>\n",
       "      <td>129</td>\n",
       "      <td>124</td>\n",
       "      <td>131</td>\n",
       "      <td>130</td>\n",
       "      <td>1</td>\n",
       "    </tr>\n",
       "    <tr>\n",
       "      <th>4</th>\n",
       "      <td>133</td>\n",
       "      <td>137</td>\n",
       "      <td>134</td>\n",
       "      <td>132</td>\n",
       "      <td>137</td>\n",
       "      <td>136</td>\n",
       "      <td>135</td>\n",
       "      <td>136</td>\n",
       "      <td>136</td>\n",
       "      <td>130</td>\n",
       "      <td>...</td>\n",
       "      <td>143</td>\n",
       "      <td>141</td>\n",
       "      <td>148</td>\n",
       "      <td>148</td>\n",
       "      <td>144</td>\n",
       "      <td>149</td>\n",
       "      <td>147</td>\n",
       "      <td>150</td>\n",
       "      <td>150</td>\n",
       "      <td>1</td>\n",
       "    </tr>\n",
       "  </tbody>\n",
       "</table>\n",
       "<p>5 rows × 252 columns</p>\n",
       "</div>"
      ],
      "text/plain": [
       "   0    1    2    3    4    5    6    7    8    9    ...  242  243  244  245  \\\n",
       "0  123  126  134  131  125  131  130  127  133  128  ...  143  139  143  141   \n",
       "1  123  122  127  130  123  123  127  128  125  125  ...  134  133  130  136   \n",
       "2  127  135  130  135  129  127  133  131  130  132  ...  143  140  139  144   \n",
       "3  120  132  120  127  126  125  120  125  122  118  ...  128  137  131  124   \n",
       "4  133  137  134  132  137  136  135  136  136  130  ...  143  141  148  148   \n",
       "\n",
       "   246  247  248  249  250  251  \n",
       "0  139  138  142  136  137    1  \n",
       "1  135  130  139  136  129    1  \n",
       "2  142  139  139  143  134    1  \n",
       "3  133  129  124  131  130    1  \n",
       "4  144  149  147  150  150    1  \n",
       "\n",
       "[5 rows x 252 columns]"
      ]
     },
     "execution_count": 5,
     "metadata": {},
     "output_type": "execute_result"
    }
   ],
   "source": [
    "data.head()"
   ]
  },
  {
   "cell_type": "code",
   "execution_count": 6,
   "id": "93aad6f8",
   "metadata": {},
   "outputs": [
    {
     "name": "stdout",
     "output_type": "stream",
     "text": [
      "<class 'pandas.core.frame.DataFrame'>\n",
      "RangeIndex: 223 entries, 0 to 222\n",
      "Columns: 252 entries, 0 to 251\n",
      "dtypes: int64(252)\n",
      "memory usage: 439.2 KB\n"
     ]
    }
   ],
   "source": [
    "data.info()"
   ]
  },
  {
   "cell_type": "markdown",
   "id": "2a0a8bca",
   "metadata": {},
   "source": [
    "# Extract features and labels"
   ]
  },
  {
   "cell_type": "code",
   "execution_count": 7,
   "id": "3b21c3b9",
   "metadata": {},
   "outputs": [],
   "source": [
    "labels = data.iloc[:, -1]\n",
    "x = data.iloc[:, :-1]"
   ]
  },
  {
   "cell_type": "markdown",
   "id": "a1e7ecea",
   "metadata": {},
   "source": [
    "# standardize the data using z-score normalization\n",
    "\n"
   ]
  },
  {
   "cell_type": "code",
   "execution_count": 8,
   "id": "389cbe6a",
   "metadata": {},
   "outputs": [],
   "source": [
    "x = (x - np.mean(x)) / np.std(x)"
   ]
  },
  {
   "cell_type": "markdown",
   "id": "02ccca63",
   "metadata": {},
   "source": [
    "# apply wavelet transform to the data"
   ]
  },
  {
   "cell_type": "code",
   "execution_count": 9,
   "id": "b9d305f1",
   "metadata": {},
   "outputs": [],
   "source": [
    "def wavelet_transform(row):\n",
    "    coeffs = pywt.wavedec(row, 'db1', level=3)\n",
    "    return np.concatenate(coeffs)"
   ]
  },
  {
   "cell_type": "code",
   "execution_count": 10,
   "id": "a98f8c1d",
   "metadata": {},
   "outputs": [],
   "source": [
    "x = x.apply(wavelet_transform, axis=1)"
   ]
  },
  {
   "cell_type": "markdown",
   "id": "83bc8d4b",
   "metadata": {},
   "source": [
    "# extract statistical features from the wavelet coefficients"
   ]
  },
  {
   "cell_type": "code",
   "execution_count": 11,
   "id": "e9e6f122",
   "metadata": {},
   "outputs": [],
   "source": [
    "features = pd.DataFrame(x.apply(lambda x: [np.mean(x), np.std(x), np.median(x), np.min(x), np.max(x)]).tolist(),\n",
    "                        columns=['mean', 'std', 'median', 'min', 'max'])"
   ]
  },
  {
   "cell_type": "markdown",
   "id": "bc9d38d2",
   "metadata": {},
   "source": [
    "# split the data into training and testing sets"
   ]
  },
  {
   "cell_type": "code",
   "execution_count": 12,
   "id": "b26a97b9",
   "metadata": {},
   "outputs": [],
   "source": [
    "X_train, X_test, y_train, y_test = train_test_split(features, labels, test_size=0.1, random_state=42)"
   ]
  },
  {
   "cell_type": "markdown",
   "id": "21d673c6",
   "metadata": {},
   "source": [
    "# TRAINING"
   ]
  },
  {
   "cell_type": "code",
   "execution_count": 16,
   "id": "23254313",
   "metadata": {},
   "outputs": [
    {
     "data": {
      "text/html": [
       "<style>#sk-container-id-1 {color: black;background-color: white;}#sk-container-id-1 pre{padding: 0;}#sk-container-id-1 div.sk-toggleable {background-color: white;}#sk-container-id-1 label.sk-toggleable__label {cursor: pointer;display: block;width: 100%;margin-bottom: 0;padding: 0.3em;box-sizing: border-box;text-align: center;}#sk-container-id-1 label.sk-toggleable__label-arrow:before {content: \"▸\";float: left;margin-right: 0.25em;color: #696969;}#sk-container-id-1 label.sk-toggleable__label-arrow:hover:before {color: black;}#sk-container-id-1 div.sk-estimator:hover label.sk-toggleable__label-arrow:before {color: black;}#sk-container-id-1 div.sk-toggleable__content {max-height: 0;max-width: 0;overflow: hidden;text-align: left;background-color: #f0f8ff;}#sk-container-id-1 div.sk-toggleable__content pre {margin: 0.2em;color: black;border-radius: 0.25em;background-color: #f0f8ff;}#sk-container-id-1 input.sk-toggleable__control:checked~div.sk-toggleable__content {max-height: 200px;max-width: 100%;overflow: auto;}#sk-container-id-1 input.sk-toggleable__control:checked~label.sk-toggleable__label-arrow:before {content: \"▾\";}#sk-container-id-1 div.sk-estimator input.sk-toggleable__control:checked~label.sk-toggleable__label {background-color: #d4ebff;}#sk-container-id-1 div.sk-label input.sk-toggleable__control:checked~label.sk-toggleable__label {background-color: #d4ebff;}#sk-container-id-1 input.sk-hidden--visually {border: 0;clip: rect(1px 1px 1px 1px);clip: rect(1px, 1px, 1px, 1px);height: 1px;margin: -1px;overflow: hidden;padding: 0;position: absolute;width: 1px;}#sk-container-id-1 div.sk-estimator {font-family: monospace;background-color: #f0f8ff;border: 1px dotted black;border-radius: 0.25em;box-sizing: border-box;margin-bottom: 0.5em;}#sk-container-id-1 div.sk-estimator:hover {background-color: #d4ebff;}#sk-container-id-1 div.sk-parallel-item::after {content: \"\";width: 100%;border-bottom: 1px solid gray;flex-grow: 1;}#sk-container-id-1 div.sk-label:hover label.sk-toggleable__label {background-color: #d4ebff;}#sk-container-id-1 div.sk-serial::before {content: \"\";position: absolute;border-left: 1px solid gray;box-sizing: border-box;top: 0;bottom: 0;left: 50%;z-index: 0;}#sk-container-id-1 div.sk-serial {display: flex;flex-direction: column;align-items: center;background-color: white;padding-right: 0.2em;padding-left: 0.2em;position: relative;}#sk-container-id-1 div.sk-item {position: relative;z-index: 1;}#sk-container-id-1 div.sk-parallel {display: flex;align-items: stretch;justify-content: center;background-color: white;position: relative;}#sk-container-id-1 div.sk-item::before, #sk-container-id-1 div.sk-parallel-item::before {content: \"\";position: absolute;border-left: 1px solid gray;box-sizing: border-box;top: 0;bottom: 0;left: 50%;z-index: -1;}#sk-container-id-1 div.sk-parallel-item {display: flex;flex-direction: column;z-index: 1;position: relative;background-color: white;}#sk-container-id-1 div.sk-parallel-item:first-child::after {align-self: flex-end;width: 50%;}#sk-container-id-1 div.sk-parallel-item:last-child::after {align-self: flex-start;width: 50%;}#sk-container-id-1 div.sk-parallel-item:only-child::after {width: 0;}#sk-container-id-1 div.sk-dashed-wrapped {border: 1px dashed gray;margin: 0 0.4em 0.5em 0.4em;box-sizing: border-box;padding-bottom: 0.4em;background-color: white;}#sk-container-id-1 div.sk-label label {font-family: monospace;font-weight: bold;display: inline-block;line-height: 1.2em;}#sk-container-id-1 div.sk-label-container {text-align: center;}#sk-container-id-1 div.sk-container {/* jupyter's `normalize.less` sets `[hidden] { display: none; }` but bootstrap.min.css set `[hidden] { display: none !important; }` so we also need the `!important` here to be able to override the default hidden behavior on the sphinx rendered scikit-learn.org. See: https://github.com/scikit-learn/scikit-learn/issues/21755 */display: inline-block !important;position: relative;}#sk-container-id-1 div.sk-text-repr-fallback {display: none;}</style><div id=\"sk-container-id-1\" class=\"sk-top-container\"><div class=\"sk-text-repr-fallback\"><pre>RandomForestClassifier(max_depth=11, n_estimators=400, random_state=42)</pre><b>In a Jupyter environment, please rerun this cell to show the HTML representation or trust the notebook. <br />On GitHub, the HTML representation is unable to render, please try loading this page with nbviewer.org.</b></div><div class=\"sk-container\" hidden><div class=\"sk-item\"><div class=\"sk-estimator sk-toggleable\"><input class=\"sk-toggleable__control sk-hidden--visually\" id=\"sk-estimator-id-1\" type=\"checkbox\" checked><label for=\"sk-estimator-id-1\" class=\"sk-toggleable__label sk-toggleable__label-arrow\">RandomForestClassifier</label><div class=\"sk-toggleable__content\"><pre>RandomForestClassifier(max_depth=11, n_estimators=400, random_state=42)</pre></div></div></div></div></div>"
      ],
      "text/plain": [
       "RandomForestClassifier(max_depth=11, n_estimators=400, random_state=42)"
      ]
     },
     "execution_count": 16,
     "metadata": {},
     "output_type": "execute_result"
    }
   ],
   "source": [
    "# train Random Forest classifier\n",
    "rf = RandomForestClassifier(n_estimators=400, max_depth=11, random_state=42)\n",
    "rf.fit(X_train, y_train)"
   ]
  },
  {
   "cell_type": "code",
   "execution_count": 17,
   "id": "92a3ed38",
   "metadata": {},
   "outputs": [
    {
     "data": {
      "text/html": [
       "<style>#sk-container-id-2 {color: black;background-color: white;}#sk-container-id-2 pre{padding: 0;}#sk-container-id-2 div.sk-toggleable {background-color: white;}#sk-container-id-2 label.sk-toggleable__label {cursor: pointer;display: block;width: 100%;margin-bottom: 0;padding: 0.3em;box-sizing: border-box;text-align: center;}#sk-container-id-2 label.sk-toggleable__label-arrow:before {content: \"▸\";float: left;margin-right: 0.25em;color: #696969;}#sk-container-id-2 label.sk-toggleable__label-arrow:hover:before {color: black;}#sk-container-id-2 div.sk-estimator:hover label.sk-toggleable__label-arrow:before {color: black;}#sk-container-id-2 div.sk-toggleable__content {max-height: 0;max-width: 0;overflow: hidden;text-align: left;background-color: #f0f8ff;}#sk-container-id-2 div.sk-toggleable__content pre {margin: 0.2em;color: black;border-radius: 0.25em;background-color: #f0f8ff;}#sk-container-id-2 input.sk-toggleable__control:checked~div.sk-toggleable__content {max-height: 200px;max-width: 100%;overflow: auto;}#sk-container-id-2 input.sk-toggleable__control:checked~label.sk-toggleable__label-arrow:before {content: \"▾\";}#sk-container-id-2 div.sk-estimator input.sk-toggleable__control:checked~label.sk-toggleable__label {background-color: #d4ebff;}#sk-container-id-2 div.sk-label input.sk-toggleable__control:checked~label.sk-toggleable__label {background-color: #d4ebff;}#sk-container-id-2 input.sk-hidden--visually {border: 0;clip: rect(1px 1px 1px 1px);clip: rect(1px, 1px, 1px, 1px);height: 1px;margin: -1px;overflow: hidden;padding: 0;position: absolute;width: 1px;}#sk-container-id-2 div.sk-estimator {font-family: monospace;background-color: #f0f8ff;border: 1px dotted black;border-radius: 0.25em;box-sizing: border-box;margin-bottom: 0.5em;}#sk-container-id-2 div.sk-estimator:hover {background-color: #d4ebff;}#sk-container-id-2 div.sk-parallel-item::after {content: \"\";width: 100%;border-bottom: 1px solid gray;flex-grow: 1;}#sk-container-id-2 div.sk-label:hover label.sk-toggleable__label {background-color: #d4ebff;}#sk-container-id-2 div.sk-serial::before {content: \"\";position: absolute;border-left: 1px solid gray;box-sizing: border-box;top: 0;bottom: 0;left: 50%;z-index: 0;}#sk-container-id-2 div.sk-serial {display: flex;flex-direction: column;align-items: center;background-color: white;padding-right: 0.2em;padding-left: 0.2em;position: relative;}#sk-container-id-2 div.sk-item {position: relative;z-index: 1;}#sk-container-id-2 div.sk-parallel {display: flex;align-items: stretch;justify-content: center;background-color: white;position: relative;}#sk-container-id-2 div.sk-item::before, #sk-container-id-2 div.sk-parallel-item::before {content: \"\";position: absolute;border-left: 1px solid gray;box-sizing: border-box;top: 0;bottom: 0;left: 50%;z-index: -1;}#sk-container-id-2 div.sk-parallel-item {display: flex;flex-direction: column;z-index: 1;position: relative;background-color: white;}#sk-container-id-2 div.sk-parallel-item:first-child::after {align-self: flex-end;width: 50%;}#sk-container-id-2 div.sk-parallel-item:last-child::after {align-self: flex-start;width: 50%;}#sk-container-id-2 div.sk-parallel-item:only-child::after {width: 0;}#sk-container-id-2 div.sk-dashed-wrapped {border: 1px dashed gray;margin: 0 0.4em 0.5em 0.4em;box-sizing: border-box;padding-bottom: 0.4em;background-color: white;}#sk-container-id-2 div.sk-label label {font-family: monospace;font-weight: bold;display: inline-block;line-height: 1.2em;}#sk-container-id-2 div.sk-label-container {text-align: center;}#sk-container-id-2 div.sk-container {/* jupyter's `normalize.less` sets `[hidden] { display: none; }` but bootstrap.min.css set `[hidden] { display: none !important; }` so we also need the `!important` here to be able to override the default hidden behavior on the sphinx rendered scikit-learn.org. See: https://github.com/scikit-learn/scikit-learn/issues/21755 */display: inline-block !important;position: relative;}#sk-container-id-2 div.sk-text-repr-fallback {display: none;}</style><div id=\"sk-container-id-2\" class=\"sk-top-container\"><div class=\"sk-text-repr-fallback\"><pre>GradientBoostingClassifier(learning_rate=0.11, n_estimators=520,\n",
       "                           random_state=42)</pre><b>In a Jupyter environment, please rerun this cell to show the HTML representation or trust the notebook. <br />On GitHub, the HTML representation is unable to render, please try loading this page with nbviewer.org.</b></div><div class=\"sk-container\" hidden><div class=\"sk-item\"><div class=\"sk-estimator sk-toggleable\"><input class=\"sk-toggleable__control sk-hidden--visually\" id=\"sk-estimator-id-2\" type=\"checkbox\" checked><label for=\"sk-estimator-id-2\" class=\"sk-toggleable__label sk-toggleable__label-arrow\">GradientBoostingClassifier</label><div class=\"sk-toggleable__content\"><pre>GradientBoostingClassifier(learning_rate=0.11, n_estimators=520,\n",
       "                           random_state=42)</pre></div></div></div></div></div>"
      ],
      "text/plain": [
       "GradientBoostingClassifier(learning_rate=0.11, n_estimators=520,\n",
       "                           random_state=42)"
      ]
     },
     "execution_count": 17,
     "metadata": {},
     "output_type": "execute_result"
    }
   ],
   "source": [
    "# train Gradient Boosting classifier\n",
    "gb = GradientBoostingClassifier(n_estimators=520, learning_rate=0.11, max_depth=3, random_state=42)\n",
    "gb.fit(X_train, y_train)"
   ]
  },
  {
   "cell_type": "code",
   "execution_count": 18,
   "id": "d294a578",
   "metadata": {},
   "outputs": [
    {
     "data": {
      "text/html": [
       "<style>#sk-container-id-3 {color: black;background-color: white;}#sk-container-id-3 pre{padding: 0;}#sk-container-id-3 div.sk-toggleable {background-color: white;}#sk-container-id-3 label.sk-toggleable__label {cursor: pointer;display: block;width: 100%;margin-bottom: 0;padding: 0.3em;box-sizing: border-box;text-align: center;}#sk-container-id-3 label.sk-toggleable__label-arrow:before {content: \"▸\";float: left;margin-right: 0.25em;color: #696969;}#sk-container-id-3 label.sk-toggleable__label-arrow:hover:before {color: black;}#sk-container-id-3 div.sk-estimator:hover label.sk-toggleable__label-arrow:before {color: black;}#sk-container-id-3 div.sk-toggleable__content {max-height: 0;max-width: 0;overflow: hidden;text-align: left;background-color: #f0f8ff;}#sk-container-id-3 div.sk-toggleable__content pre {margin: 0.2em;color: black;border-radius: 0.25em;background-color: #f0f8ff;}#sk-container-id-3 input.sk-toggleable__control:checked~div.sk-toggleable__content {max-height: 200px;max-width: 100%;overflow: auto;}#sk-container-id-3 input.sk-toggleable__control:checked~label.sk-toggleable__label-arrow:before {content: \"▾\";}#sk-container-id-3 div.sk-estimator input.sk-toggleable__control:checked~label.sk-toggleable__label {background-color: #d4ebff;}#sk-container-id-3 div.sk-label input.sk-toggleable__control:checked~label.sk-toggleable__label {background-color: #d4ebff;}#sk-container-id-3 input.sk-hidden--visually {border: 0;clip: rect(1px 1px 1px 1px);clip: rect(1px, 1px, 1px, 1px);height: 1px;margin: -1px;overflow: hidden;padding: 0;position: absolute;width: 1px;}#sk-container-id-3 div.sk-estimator {font-family: monospace;background-color: #f0f8ff;border: 1px dotted black;border-radius: 0.25em;box-sizing: border-box;margin-bottom: 0.5em;}#sk-container-id-3 div.sk-estimator:hover {background-color: #d4ebff;}#sk-container-id-3 div.sk-parallel-item::after {content: \"\";width: 100%;border-bottom: 1px solid gray;flex-grow: 1;}#sk-container-id-3 div.sk-label:hover label.sk-toggleable__label {background-color: #d4ebff;}#sk-container-id-3 div.sk-serial::before {content: \"\";position: absolute;border-left: 1px solid gray;box-sizing: border-box;top: 0;bottom: 0;left: 50%;z-index: 0;}#sk-container-id-3 div.sk-serial {display: flex;flex-direction: column;align-items: center;background-color: white;padding-right: 0.2em;padding-left: 0.2em;position: relative;}#sk-container-id-3 div.sk-item {position: relative;z-index: 1;}#sk-container-id-3 div.sk-parallel {display: flex;align-items: stretch;justify-content: center;background-color: white;position: relative;}#sk-container-id-3 div.sk-item::before, #sk-container-id-3 div.sk-parallel-item::before {content: \"\";position: absolute;border-left: 1px solid gray;box-sizing: border-box;top: 0;bottom: 0;left: 50%;z-index: -1;}#sk-container-id-3 div.sk-parallel-item {display: flex;flex-direction: column;z-index: 1;position: relative;background-color: white;}#sk-container-id-3 div.sk-parallel-item:first-child::after {align-self: flex-end;width: 50%;}#sk-container-id-3 div.sk-parallel-item:last-child::after {align-self: flex-start;width: 50%;}#sk-container-id-3 div.sk-parallel-item:only-child::after {width: 0;}#sk-container-id-3 div.sk-dashed-wrapped {border: 1px dashed gray;margin: 0 0.4em 0.5em 0.4em;box-sizing: border-box;padding-bottom: 0.4em;background-color: white;}#sk-container-id-3 div.sk-label label {font-family: monospace;font-weight: bold;display: inline-block;line-height: 1.2em;}#sk-container-id-3 div.sk-label-container {text-align: center;}#sk-container-id-3 div.sk-container {/* jupyter's `normalize.less` sets `[hidden] { display: none; }` but bootstrap.min.css set `[hidden] { display: none !important; }` so we also need the `!important` here to be able to override the default hidden behavior on the sphinx rendered scikit-learn.org. See: https://github.com/scikit-learn/scikit-learn/issues/21755 */display: inline-block !important;position: relative;}#sk-container-id-3 div.sk-text-repr-fallback {display: none;}</style><div id=\"sk-container-id-3\" class=\"sk-top-container\"><div class=\"sk-text-repr-fallback\"><pre>KNeighborsClassifier()</pre><b>In a Jupyter environment, please rerun this cell to show the HTML representation or trust the notebook. <br />On GitHub, the HTML representation is unable to render, please try loading this page with nbviewer.org.</b></div><div class=\"sk-container\" hidden><div class=\"sk-item\"><div class=\"sk-estimator sk-toggleable\"><input class=\"sk-toggleable__control sk-hidden--visually\" id=\"sk-estimator-id-3\" type=\"checkbox\" checked><label for=\"sk-estimator-id-3\" class=\"sk-toggleable__label sk-toggleable__label-arrow\">KNeighborsClassifier</label><div class=\"sk-toggleable__content\"><pre>KNeighborsClassifier()</pre></div></div></div></div></div>"
      ],
      "text/plain": [
       "KNeighborsClassifier()"
      ]
     },
     "execution_count": 18,
     "metadata": {},
     "output_type": "execute_result"
    }
   ],
   "source": [
    "# train K-Nearest Neighbors classifier\n",
    "knn = KNeighborsClassifier(n_neighbors=5)\n",
    "knn.fit(X_train, y_train)"
   ]
  },
  {
   "cell_type": "code",
   "execution_count": 19,
   "id": "16bb805f",
   "metadata": {},
   "outputs": [
    {
     "name": "stderr",
     "output_type": "stream",
     "text": [
      "C:\\Users\\AHMED\\anaconda3\\lib\\site-packages\\sklearn\\linear_model\\_logistic.py:458: ConvergenceWarning: lbfgs failed to converge (status=1):\n",
      "STOP: TOTAL NO. of ITERATIONS REACHED LIMIT.\n",
      "\n",
      "Increase the number of iterations (max_iter) or scale the data as shown in:\n",
      "    https://scikit-learn.org/stable/modules/preprocessing.html\n",
      "Please also refer to the documentation for alternative solver options:\n",
      "    https://scikit-learn.org/stable/modules/linear_model.html#logistic-regression\n",
      "  n_iter_i = _check_optimize_result(\n"
     ]
    },
    {
     "data": {
      "text/html": [
       "<style>#sk-container-id-4 {color: black;background-color: white;}#sk-container-id-4 pre{padding: 0;}#sk-container-id-4 div.sk-toggleable {background-color: white;}#sk-container-id-4 label.sk-toggleable__label {cursor: pointer;display: block;width: 100%;margin-bottom: 0;padding: 0.3em;box-sizing: border-box;text-align: center;}#sk-container-id-4 label.sk-toggleable__label-arrow:before {content: \"▸\";float: left;margin-right: 0.25em;color: #696969;}#sk-container-id-4 label.sk-toggleable__label-arrow:hover:before {color: black;}#sk-container-id-4 div.sk-estimator:hover label.sk-toggleable__label-arrow:before {color: black;}#sk-container-id-4 div.sk-toggleable__content {max-height: 0;max-width: 0;overflow: hidden;text-align: left;background-color: #f0f8ff;}#sk-container-id-4 div.sk-toggleable__content pre {margin: 0.2em;color: black;border-radius: 0.25em;background-color: #f0f8ff;}#sk-container-id-4 input.sk-toggleable__control:checked~div.sk-toggleable__content {max-height: 200px;max-width: 100%;overflow: auto;}#sk-container-id-4 input.sk-toggleable__control:checked~label.sk-toggleable__label-arrow:before {content: \"▾\";}#sk-container-id-4 div.sk-estimator input.sk-toggleable__control:checked~label.sk-toggleable__label {background-color: #d4ebff;}#sk-container-id-4 div.sk-label input.sk-toggleable__control:checked~label.sk-toggleable__label {background-color: #d4ebff;}#sk-container-id-4 input.sk-hidden--visually {border: 0;clip: rect(1px 1px 1px 1px);clip: rect(1px, 1px, 1px, 1px);height: 1px;margin: -1px;overflow: hidden;padding: 0;position: absolute;width: 1px;}#sk-container-id-4 div.sk-estimator {font-family: monospace;background-color: #f0f8ff;border: 1px dotted black;border-radius: 0.25em;box-sizing: border-box;margin-bottom: 0.5em;}#sk-container-id-4 div.sk-estimator:hover {background-color: #d4ebff;}#sk-container-id-4 div.sk-parallel-item::after {content: \"\";width: 100%;border-bottom: 1px solid gray;flex-grow: 1;}#sk-container-id-4 div.sk-label:hover label.sk-toggleable__label {background-color: #d4ebff;}#sk-container-id-4 div.sk-serial::before {content: \"\";position: absolute;border-left: 1px solid gray;box-sizing: border-box;top: 0;bottom: 0;left: 50%;z-index: 0;}#sk-container-id-4 div.sk-serial {display: flex;flex-direction: column;align-items: center;background-color: white;padding-right: 0.2em;padding-left: 0.2em;position: relative;}#sk-container-id-4 div.sk-item {position: relative;z-index: 1;}#sk-container-id-4 div.sk-parallel {display: flex;align-items: stretch;justify-content: center;background-color: white;position: relative;}#sk-container-id-4 div.sk-item::before, #sk-container-id-4 div.sk-parallel-item::before {content: \"\";position: absolute;border-left: 1px solid gray;box-sizing: border-box;top: 0;bottom: 0;left: 50%;z-index: -1;}#sk-container-id-4 div.sk-parallel-item {display: flex;flex-direction: column;z-index: 1;position: relative;background-color: white;}#sk-container-id-4 div.sk-parallel-item:first-child::after {align-self: flex-end;width: 50%;}#sk-container-id-4 div.sk-parallel-item:last-child::after {align-self: flex-start;width: 50%;}#sk-container-id-4 div.sk-parallel-item:only-child::after {width: 0;}#sk-container-id-4 div.sk-dashed-wrapped {border: 1px dashed gray;margin: 0 0.4em 0.5em 0.4em;box-sizing: border-box;padding-bottom: 0.4em;background-color: white;}#sk-container-id-4 div.sk-label label {font-family: monospace;font-weight: bold;display: inline-block;line-height: 1.2em;}#sk-container-id-4 div.sk-label-container {text-align: center;}#sk-container-id-4 div.sk-container {/* jupyter's `normalize.less` sets `[hidden] { display: none; }` but bootstrap.min.css set `[hidden] { display: none !important; }` so we also need the `!important` here to be able to override the default hidden behavior on the sphinx rendered scikit-learn.org. See: https://github.com/scikit-learn/scikit-learn/issues/21755 */display: inline-block !important;position: relative;}#sk-container-id-4 div.sk-text-repr-fallback {display: none;}</style><div id=\"sk-container-id-4\" class=\"sk-top-container\"><div class=\"sk-text-repr-fallback\"><pre>LogisticRegression()</pre><b>In a Jupyter environment, please rerun this cell to show the HTML representation or trust the notebook. <br />On GitHub, the HTML representation is unable to render, please try loading this page with nbviewer.org.</b></div><div class=\"sk-container\" hidden><div class=\"sk-item\"><div class=\"sk-estimator sk-toggleable\"><input class=\"sk-toggleable__control sk-hidden--visually\" id=\"sk-estimator-id-4\" type=\"checkbox\" checked><label for=\"sk-estimator-id-4\" class=\"sk-toggleable__label sk-toggleable__label-arrow\">LogisticRegression</label><div class=\"sk-toggleable__content\"><pre>LogisticRegression()</pre></div></div></div></div></div>"
      ],
      "text/plain": [
       "LogisticRegression()"
      ]
     },
     "execution_count": 19,
     "metadata": {},
     "output_type": "execute_result"
    }
   ],
   "source": [
    "# train Logistic Regression classifier\n",
    "lr = LogisticRegression()\n",
    "lr.fit(X_train, y_train)"
   ]
  },
  {
   "cell_type": "code",
   "execution_count": 20,
   "id": "5182918e",
   "metadata": {},
   "outputs": [
    {
     "data": {
      "text/html": [
       "<style>#sk-container-id-5 {color: black;background-color: white;}#sk-container-id-5 pre{padding: 0;}#sk-container-id-5 div.sk-toggleable {background-color: white;}#sk-container-id-5 label.sk-toggleable__label {cursor: pointer;display: block;width: 100%;margin-bottom: 0;padding: 0.3em;box-sizing: border-box;text-align: center;}#sk-container-id-5 label.sk-toggleable__label-arrow:before {content: \"▸\";float: left;margin-right: 0.25em;color: #696969;}#sk-container-id-5 label.sk-toggleable__label-arrow:hover:before {color: black;}#sk-container-id-5 div.sk-estimator:hover label.sk-toggleable__label-arrow:before {color: black;}#sk-container-id-5 div.sk-toggleable__content {max-height: 0;max-width: 0;overflow: hidden;text-align: left;background-color: #f0f8ff;}#sk-container-id-5 div.sk-toggleable__content pre {margin: 0.2em;color: black;border-radius: 0.25em;background-color: #f0f8ff;}#sk-container-id-5 input.sk-toggleable__control:checked~div.sk-toggleable__content {max-height: 200px;max-width: 100%;overflow: auto;}#sk-container-id-5 input.sk-toggleable__control:checked~label.sk-toggleable__label-arrow:before {content: \"▾\";}#sk-container-id-5 div.sk-estimator input.sk-toggleable__control:checked~label.sk-toggleable__label {background-color: #d4ebff;}#sk-container-id-5 div.sk-label input.sk-toggleable__control:checked~label.sk-toggleable__label {background-color: #d4ebff;}#sk-container-id-5 input.sk-hidden--visually {border: 0;clip: rect(1px 1px 1px 1px);clip: rect(1px, 1px, 1px, 1px);height: 1px;margin: -1px;overflow: hidden;padding: 0;position: absolute;width: 1px;}#sk-container-id-5 div.sk-estimator {font-family: monospace;background-color: #f0f8ff;border: 1px dotted black;border-radius: 0.25em;box-sizing: border-box;margin-bottom: 0.5em;}#sk-container-id-5 div.sk-estimator:hover {background-color: #d4ebff;}#sk-container-id-5 div.sk-parallel-item::after {content: \"\";width: 100%;border-bottom: 1px solid gray;flex-grow: 1;}#sk-container-id-5 div.sk-label:hover label.sk-toggleable__label {background-color: #d4ebff;}#sk-container-id-5 div.sk-serial::before {content: \"\";position: absolute;border-left: 1px solid gray;box-sizing: border-box;top: 0;bottom: 0;left: 50%;z-index: 0;}#sk-container-id-5 div.sk-serial {display: flex;flex-direction: column;align-items: center;background-color: white;padding-right: 0.2em;padding-left: 0.2em;position: relative;}#sk-container-id-5 div.sk-item {position: relative;z-index: 1;}#sk-container-id-5 div.sk-parallel {display: flex;align-items: stretch;justify-content: center;background-color: white;position: relative;}#sk-container-id-5 div.sk-item::before, #sk-container-id-5 div.sk-parallel-item::before {content: \"\";position: absolute;border-left: 1px solid gray;box-sizing: border-box;top: 0;bottom: 0;left: 50%;z-index: -1;}#sk-container-id-5 div.sk-parallel-item {display: flex;flex-direction: column;z-index: 1;position: relative;background-color: white;}#sk-container-id-5 div.sk-parallel-item:first-child::after {align-self: flex-end;width: 50%;}#sk-container-id-5 div.sk-parallel-item:last-child::after {align-self: flex-start;width: 50%;}#sk-container-id-5 div.sk-parallel-item:only-child::after {width: 0;}#sk-container-id-5 div.sk-dashed-wrapped {border: 1px dashed gray;margin: 0 0.4em 0.5em 0.4em;box-sizing: border-box;padding-bottom: 0.4em;background-color: white;}#sk-container-id-5 div.sk-label label {font-family: monospace;font-weight: bold;display: inline-block;line-height: 1.2em;}#sk-container-id-5 div.sk-label-container {text-align: center;}#sk-container-id-5 div.sk-container {/* jupyter's `normalize.less` sets `[hidden] { display: none; }` but bootstrap.min.css set `[hidden] { display: none !important; }` so we also need the `!important` here to be able to override the default hidden behavior on the sphinx rendered scikit-learn.org. See: https://github.com/scikit-learn/scikit-learn/issues/21755 */display: inline-block !important;position: relative;}#sk-container-id-5 div.sk-text-repr-fallback {display: none;}</style><div id=\"sk-container-id-5\" class=\"sk-top-container\"><div class=\"sk-text-repr-fallback\"><pre>SVC(random_state=42)</pre><b>In a Jupyter environment, please rerun this cell to show the HTML representation or trust the notebook. <br />On GitHub, the HTML representation is unable to render, please try loading this page with nbviewer.org.</b></div><div class=\"sk-container\" hidden><div class=\"sk-item\"><div class=\"sk-estimator sk-toggleable\"><input class=\"sk-toggleable__control sk-hidden--visually\" id=\"sk-estimator-id-5\" type=\"checkbox\" checked><label for=\"sk-estimator-id-5\" class=\"sk-toggleable__label sk-toggleable__label-arrow\">SVC</label><div class=\"sk-toggleable__content\"><pre>SVC(random_state=42)</pre></div></div></div></div></div>"
      ],
      "text/plain": [
       "SVC(random_state=42)"
      ]
     },
     "execution_count": 20,
     "metadata": {},
     "output_type": "execute_result"
    }
   ],
   "source": [
    "# train Support Vector Machine classifier\n",
    "svm = SVC(kernel='rbf', C=1.0, gamma='scale', random_state=42)\n",
    "svm.fit(X_train, y_train)"
   ]
  },
  {
   "cell_type": "markdown",
   "id": "b94f20e0",
   "metadata": {},
   "source": [
    "# evaluate the classifiers on the testing set"
   ]
  },
  {
   "cell_type": "code",
   "execution_count": 21,
   "id": "c9303b1c",
   "metadata": {},
   "outputs": [
    {
     "ename": "NameError",
     "evalue": "name 'mlp' is not defined",
     "output_type": "error",
     "traceback": [
      "\u001b[1;31m---------------------------------------------------------------------------\u001b[0m",
      "\u001b[1;31mNameError\u001b[0m                                 Traceback (most recent call last)",
      "\u001b[1;32m~\\AppData\\Local\\Temp/ipykernel_51572/1035084010.py\u001b[0m in \u001b[0;36m<module>\u001b[1;34m\u001b[0m\n\u001b[1;32m----> 1\u001b[1;33m \u001b[0mmodels\u001b[0m \u001b[1;33m=\u001b[0m \u001b[1;33m{\u001b[0m\u001b[1;34m'Random Forest'\u001b[0m\u001b[1;33m:\u001b[0m \u001b[0mrf\u001b[0m\u001b[1;33m,\u001b[0m \u001b[1;34m'Gradient Boosting'\u001b[0m\u001b[1;33m:\u001b[0m \u001b[0mgb\u001b[0m\u001b[1;33m,\u001b[0m \u001b[1;34m'K-NN'\u001b[0m\u001b[1;33m:\u001b[0m \u001b[0mknn\u001b[0m\u001b[1;33m,\u001b[0m \u001b[1;34m'Logistic Regression'\u001b[0m\u001b[1;33m:\u001b[0m \u001b[0mlr\u001b[0m\u001b[1;33m,\u001b[0m \u001b[1;34m'SVM'\u001b[0m\u001b[1;33m:\u001b[0m \u001b[0msvm\u001b[0m\u001b[1;33m,\u001b[0m\u001b[1;34m'mlp'\u001b[0m\u001b[1;33m:\u001b[0m\u001b[0mmlp\u001b[0m\u001b[1;33m}\u001b[0m\u001b[1;33m\u001b[0m\u001b[1;33m\u001b[0m\u001b[0m\n\u001b[0m\u001b[0;32m      2\u001b[0m \u001b[1;32mfor\u001b[0m \u001b[0mname\u001b[0m\u001b[1;33m,\u001b[0m \u001b[0mmodel\u001b[0m \u001b[1;32min\u001b[0m \u001b[0mmodels\u001b[0m\u001b[1;33m.\u001b[0m\u001b[0mitems\u001b[0m\u001b[1;33m(\u001b[0m\u001b[1;33m)\u001b[0m\u001b[1;33m:\u001b[0m\u001b[1;33m\u001b[0m\u001b[1;33m\u001b[0m\u001b[0m\n\u001b[0;32m      3\u001b[0m     \u001b[0my_pred\u001b[0m \u001b[1;33m=\u001b[0m \u001b[0mmodel\u001b[0m\u001b[1;33m.\u001b[0m\u001b[0mpredict\u001b[0m\u001b[1;33m(\u001b[0m\u001b[0mX_test\u001b[0m\u001b[1;33m)\u001b[0m\u001b[1;33m\u001b[0m\u001b[1;33m\u001b[0m\u001b[0m\n\u001b[0;32m      4\u001b[0m     \u001b[0mtrain_accuracy\u001b[0m\u001b[1;33m=\u001b[0m\u001b[0mmodel\u001b[0m\u001b[1;33m.\u001b[0m\u001b[0mscore\u001b[0m\u001b[1;33m(\u001b[0m\u001b[0mX_train\u001b[0m\u001b[1;33m,\u001b[0m\u001b[0my_train\u001b[0m\u001b[1;33m)\u001b[0m\u001b[1;33m\u001b[0m\u001b[1;33m\u001b[0m\u001b[0m\n\u001b[0;32m      5\u001b[0m     \u001b[0mprint\u001b[0m\u001b[1;33m(\u001b[0m \u001b[1;34m'train accuracy: '\u001b[0m\u001b[1;33m,\u001b[0m\u001b[0mtrain_accuracy\u001b[0m\u001b[1;33m)\u001b[0m\u001b[1;33m\u001b[0m\u001b[1;33m\u001b[0m\u001b[0m\n",
      "\u001b[1;31mNameError\u001b[0m: name 'mlp' is not defined"
     ]
    }
   ],
   "source": [
    "models = {'Random Forest': rf, 'Gradient Boosting': gb, 'K-NN': knn, 'Logistic Regression': lr, 'SVM': svm}\n",
    "for name, model in models.items():\n",
    "    y_pred = model.predict(X_test)\n",
    "    train_accuracy=model.score(X_train,y_train)\n",
    "    print( 'train accuracy: ',train_accuracy)\n",
    "    accuracy = accuracy_score(y_test, y_pred)\n",
    "    f1 = f1_score(y_test, y_pred, average='weighted')\n",
    "    print(\"{} Classifier - Accuracy: {:.2f}, F1-score: {:.2f}\".format(name, accuracy, f1))"
   ]
  },
  {
   "cell_type": "code",
   "execution_count": null,
   "id": "9c0c566b",
   "metadata": {},
   "outputs": [],
   "source": []
  }
 ],
 "metadata": {
  "kernelspec": {
   "display_name": "Python 3 (ipykernel)",
   "language": "python",
   "name": "python3"
  },
  "language_info": {
   "codemirror_mode": {
    "name": "ipython",
    "version": 3
   },
   "file_extension": ".py",
   "mimetype": "text/x-python",
   "name": "python",
   "nbconvert_exporter": "python",
   "pygments_lexer": "ipython3",
   "version": "3.9.7"
  }
 },
 "nbformat": 4,
 "nbformat_minor": 5
}
