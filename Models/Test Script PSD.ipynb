{
 "cells": [
  {
   "cell_type": "markdown",
   "id": "7446b159",
   "metadata": {},
   "source": [
    "# Data Handling and CSV Creating"
   ]
  },
  {
   "cell_type": "code",
   "execution_count": 1,
   "id": "ec27b48d",
   "metadata": {},
   "outputs": [],
   "source": [
    "import glob\n",
    "import re\n",
    "import numpy as np \n",
    "import matplotlib.pyplot as plt\n",
    "import pandas as pd\n",
    "from pywt import wavedec\n",
    "import pywt\n",
    "from sklearn.model_selection import train_test_split\n",
    "from sklearn.preprocessing import MinMaxScaler\n",
    "from sklearn.preprocessing import StandardScaler\n",
    "from sklearn import metrics\n",
    "from sklearn.metrics import confusion_matrix\n",
    "from mlxtend.plotting import plot_confusion_matrix\n",
    "import scipy.integrate as integrate\n",
    "from statsmodels.tsa.ar_model import AutoReg\n",
    "from pylab import figure,clf,plot,xlabel,ylabel,title,grid,axes,show\n",
    "from scipy.signal import find_peaks\n",
    "import scipy.signal\n",
    "import pickle"
   ]
  },
  {
   "cell_type": "code",
   "execution_count": 2,
   "id": "c2e2b156",
   "metadata": {},
   "outputs": [],
   "source": [
    "# Dataset Classes:\n",
    "# ________________\n",
    "\n",
    "# Yukari-->Up\n",
    "# Asagi-->Down\n",
    "# Sag-->Right \n",
    "# Sol-->Left\n",
    "# Kirp-->Blink \n",
    "# Center ????\n",
    "# what h and v reprenets ??? \n"
   ]
  },
  {
   "cell_type": "code",
   "execution_count": 3,
   "id": "354a3650",
   "metadata": {},
   "outputs": [],
   "source": [
    "class_names = {\n",
    "    0: 'Up',\n",
    "    1: 'Down',\n",
    "    2: 'Right',\n",
    "    3: 'Left',\n",
    "    4: 'Blink'\n",
    "}"
   ]
  },
  {
   "cell_type": "code",
   "execution_count": 4,
   "id": "d12360b9",
   "metadata": {},
   "outputs": [],
   "source": [
    "names= np.arange(0,503)"
   ]
  },
  {
   "cell_type": "code",
   "execution_count": 5,
   "id": "d5a26b02",
   "metadata": {},
   "outputs": [],
   "source": [
    "df = pd.read_csv('Data Handling Concat.csv', names=names)"
   ]
  },
  {
   "cell_type": "code",
   "execution_count": 6,
   "id": "a638bf45",
   "metadata": {},
   "outputs": [
    {
     "data": {
      "text/html": [
       "<div>\n",
       "<style scoped>\n",
       "    .dataframe tbody tr th:only-of-type {\n",
       "        vertical-align: middle;\n",
       "    }\n",
       "\n",
       "    .dataframe tbody tr th {\n",
       "        vertical-align: top;\n",
       "    }\n",
       "\n",
       "    .dataframe thead th {\n",
       "        text-align: right;\n",
       "    }\n",
       "</style>\n",
       "<table border=\"1\" class=\"dataframe\">\n",
       "  <thead>\n",
       "    <tr style=\"text-align: right;\">\n",
       "      <th></th>\n",
       "      <th>0</th>\n",
       "      <th>1</th>\n",
       "      <th>2</th>\n",
       "      <th>3</th>\n",
       "      <th>4</th>\n",
       "      <th>5</th>\n",
       "      <th>6</th>\n",
       "      <th>7</th>\n",
       "      <th>8</th>\n",
       "      <th>9</th>\n",
       "      <th>...</th>\n",
       "      <th>493</th>\n",
       "      <th>494</th>\n",
       "      <th>495</th>\n",
       "      <th>496</th>\n",
       "      <th>497</th>\n",
       "      <th>498</th>\n",
       "      <th>499</th>\n",
       "      <th>500</th>\n",
       "      <th>501</th>\n",
       "      <th>502</th>\n",
       "    </tr>\n",
       "  </thead>\n",
       "  <tbody>\n",
       "    <tr>\n",
       "      <th>0</th>\n",
       "      <td>123</td>\n",
       "      <td>122</td>\n",
       "      <td>127</td>\n",
       "      <td>130</td>\n",
       "      <td>123</td>\n",
       "      <td>123</td>\n",
       "      <td>127</td>\n",
       "      <td>128</td>\n",
       "      <td>125</td>\n",
       "      <td>125</td>\n",
       "      <td>...</td>\n",
       "      <td>143</td>\n",
       "      <td>139</td>\n",
       "      <td>143</td>\n",
       "      <td>141</td>\n",
       "      <td>139</td>\n",
       "      <td>138</td>\n",
       "      <td>142</td>\n",
       "      <td>136</td>\n",
       "      <td>137</td>\n",
       "      <td>1</td>\n",
       "    </tr>\n",
       "    <tr>\n",
       "      <th>1</th>\n",
       "      <td>120</td>\n",
       "      <td>132</td>\n",
       "      <td>120</td>\n",
       "      <td>127</td>\n",
       "      <td>126</td>\n",
       "      <td>125</td>\n",
       "      <td>120</td>\n",
       "      <td>125</td>\n",
       "      <td>122</td>\n",
       "      <td>118</td>\n",
       "      <td>...</td>\n",
       "      <td>143</td>\n",
       "      <td>140</td>\n",
       "      <td>139</td>\n",
       "      <td>144</td>\n",
       "      <td>142</td>\n",
       "      <td>139</td>\n",
       "      <td>139</td>\n",
       "      <td>143</td>\n",
       "      <td>134</td>\n",
       "      <td>1</td>\n",
       "    </tr>\n",
       "    <tr>\n",
       "      <th>2</th>\n",
       "      <td>136</td>\n",
       "      <td>130</td>\n",
       "      <td>141</td>\n",
       "      <td>136</td>\n",
       "      <td>137</td>\n",
       "      <td>135</td>\n",
       "      <td>144</td>\n",
       "      <td>133</td>\n",
       "      <td>143</td>\n",
       "      <td>144</td>\n",
       "      <td>...</td>\n",
       "      <td>143</td>\n",
       "      <td>141</td>\n",
       "      <td>148</td>\n",
       "      <td>148</td>\n",
       "      <td>144</td>\n",
       "      <td>149</td>\n",
       "      <td>147</td>\n",
       "      <td>150</td>\n",
       "      <td>150</td>\n",
       "      <td>1</td>\n",
       "    </tr>\n",
       "    <tr>\n",
       "      <th>3</th>\n",
       "      <td>148</td>\n",
       "      <td>150</td>\n",
       "      <td>139</td>\n",
       "      <td>144</td>\n",
       "      <td>144</td>\n",
       "      <td>144</td>\n",
       "      <td>139</td>\n",
       "      <td>148</td>\n",
       "      <td>142</td>\n",
       "      <td>146</td>\n",
       "      <td>...</td>\n",
       "      <td>135</td>\n",
       "      <td>128</td>\n",
       "      <td>131</td>\n",
       "      <td>132</td>\n",
       "      <td>132</td>\n",
       "      <td>131</td>\n",
       "      <td>133</td>\n",
       "      <td>135</td>\n",
       "      <td>136</td>\n",
       "      <td>1</td>\n",
       "    </tr>\n",
       "    <tr>\n",
       "      <th>4</th>\n",
       "      <td>118</td>\n",
       "      <td>112</td>\n",
       "      <td>121</td>\n",
       "      <td>120</td>\n",
       "      <td>116</td>\n",
       "      <td>115</td>\n",
       "      <td>119</td>\n",
       "      <td>116</td>\n",
       "      <td>118</td>\n",
       "      <td>115</td>\n",
       "      <td>...</td>\n",
       "      <td>143</td>\n",
       "      <td>138</td>\n",
       "      <td>135</td>\n",
       "      <td>144</td>\n",
       "      <td>133</td>\n",
       "      <td>133</td>\n",
       "      <td>137</td>\n",
       "      <td>140</td>\n",
       "      <td>95</td>\n",
       "      <td>1</td>\n",
       "    </tr>\n",
       "  </tbody>\n",
       "</table>\n",
       "<p>5 rows × 503 columns</p>\n",
       "</div>"
      ],
      "text/plain": [
       "   0    1    2    3    4    5    6    7    8    9    ...  493  494  495  496  \\\n",
       "0  123  122  127  130  123  123  127  128  125  125  ...  143  139  143  141   \n",
       "1  120  132  120  127  126  125  120  125  122  118  ...  143  140  139  144   \n",
       "2  136  130  141  136  137  135  144  133  143  144  ...  143  141  148  148   \n",
       "3  148  150  139  144  144  144  139  148  142  146  ...  135  128  131  132   \n",
       "4  118  112  121  120  116  115  119  116  118  115  ...  143  138  135  144   \n",
       "\n",
       "   497  498  499  500  501  502  \n",
       "0  139  138  142  136  137    1  \n",
       "1  142  139  139  143  134    1  \n",
       "2  144  149  147  150  150    1  \n",
       "3  132  131  133  135  136    1  \n",
       "4  133  133  137  140   95    1  \n",
       "\n",
       "[5 rows x 503 columns]"
      ]
     },
     "execution_count": 6,
     "metadata": {},
     "output_type": "execute_result"
    }
   ],
   "source": [
    "df.head()"
   ]
  },
  {
   "cell_type": "code",
   "execution_count": 7,
   "id": "1906ce1a",
   "metadata": {},
   "outputs": [
    {
     "name": "stdout",
     "output_type": "stream",
     "text": [
      "<class 'pandas.core.frame.DataFrame'>\n",
      "RangeIndex: 100 entries, 0 to 99\n",
      "Columns: 503 entries, 0 to 502\n",
      "dtypes: int64(503)\n",
      "memory usage: 393.1 KB\n"
     ]
    }
   ],
   "source": [
    "df.info()"
   ]
  },
  {
   "cell_type": "code",
   "execution_count": 8,
   "id": "12daa281",
   "metadata": {},
   "outputs": [],
   "source": [
    "def prepare(x,y_test):\n",
    "    x=np.array(x)\n",
    "    for i in x:\n",
    "        plt.figure(figsize=(12,6))\n",
    "        plt.title('Signal')\n",
    "        plt.plot(np.arange(0,len(i)),i)\n",
    "        plt.xlabel(\"Time(s)\")\n",
    "        plt.ylabel(\"Amp(v)\")\n",
    "    \n",
    "    psd=[]\n",
    "    for i in x:\n",
    "        # f:frequancy components\n",
    "        \n",
    "\n",
    "        (f,s)=scipy.signal.periodogram(i,176,scaling='density')\n",
    "        psd.append(s)\n",
    "    scaler=pickle.load(open('scaler.pkl', 'rb'))\n",
    "    X_test=scaler.transform(psd)  \n",
    "    abc = pickle.load(open('abc_psd1100%.pkl', 'rb'))\n",
    "    ytest_pred_abc=abc.predict(X_test)\n",
    "    print(\"accuracy:   \",metrics.accuracy_score(y_test,ytest_pred_abc))\n",
    "    for i in range(len(ytest_pred_abc)):\n",
    "        \n",
    "        print(\"prediction:  \",class_names[ytest_pred_abc[i]])\n",
    "\n",
    "    "
   ]
  },
  {
   "cell_type": "code",
   "execution_count": 9,
   "id": "9de6fb45",
   "metadata": {},
   "outputs": [
    {
     "data": {
      "text/html": [
       "<div>\n",
       "<style scoped>\n",
       "    .dataframe tbody tr th:only-of-type {\n",
       "        vertical-align: middle;\n",
       "    }\n",
       "\n",
       "    .dataframe tbody tr th {\n",
       "        vertical-align: top;\n",
       "    }\n",
       "\n",
       "    .dataframe thead th {\n",
       "        text-align: right;\n",
       "    }\n",
       "</style>\n",
       "<table border=\"1\" class=\"dataframe\">\n",
       "  <thead>\n",
       "    <tr style=\"text-align: right;\">\n",
       "      <th></th>\n",
       "      <th>0</th>\n",
       "      <th>1</th>\n",
       "      <th>2</th>\n",
       "      <th>3</th>\n",
       "      <th>4</th>\n",
       "      <th>5</th>\n",
       "      <th>6</th>\n",
       "      <th>7</th>\n",
       "      <th>8</th>\n",
       "      <th>9</th>\n",
       "      <th>...</th>\n",
       "      <th>492</th>\n",
       "      <th>493</th>\n",
       "      <th>494</th>\n",
       "      <th>495</th>\n",
       "      <th>496</th>\n",
       "      <th>497</th>\n",
       "      <th>498</th>\n",
       "      <th>499</th>\n",
       "      <th>500</th>\n",
       "      <th>501</th>\n",
       "    </tr>\n",
       "  </thead>\n",
       "  <tbody>\n",
       "    <tr>\n",
       "      <th>0</th>\n",
       "      <td>123</td>\n",
       "      <td>122</td>\n",
       "      <td>127</td>\n",
       "      <td>130</td>\n",
       "      <td>123</td>\n",
       "      <td>123</td>\n",
       "      <td>127</td>\n",
       "      <td>128</td>\n",
       "      <td>125</td>\n",
       "      <td>125</td>\n",
       "      <td>...</td>\n",
       "      <td>149</td>\n",
       "      <td>143</td>\n",
       "      <td>139</td>\n",
       "      <td>143</td>\n",
       "      <td>141</td>\n",
       "      <td>139</td>\n",
       "      <td>138</td>\n",
       "      <td>142</td>\n",
       "      <td>136</td>\n",
       "      <td>137</td>\n",
       "    </tr>\n",
       "  </tbody>\n",
       "</table>\n",
       "<p>1 rows × 502 columns</p>\n",
       "</div>"
      ],
      "text/plain": [
       "   0    1    2    3    4    5    6    7    8    9    ...  492  493  494  495  \\\n",
       "0  123  122  127  130  123  123  127  128  125  125  ...  149  143  139  143   \n",
       "\n",
       "   496  497  498  499  500  501  \n",
       "0  141  139  138  142  136  137  \n",
       "\n",
       "[1 rows x 502 columns]"
      ]
     },
     "execution_count": 9,
     "metadata": {},
     "output_type": "execute_result"
    }
   ],
   "source": [
    "x=df.iloc[0:1,:-1]\n",
    "x"
   ]
  },
  {
   "cell_type": "code",
   "execution_count": 10,
   "id": "8e2ff9b4",
   "metadata": {},
   "outputs": [
    {
     "data": {
      "text/html": [
       "<div>\n",
       "<style scoped>\n",
       "    .dataframe tbody tr th:only-of-type {\n",
       "        vertical-align: middle;\n",
       "    }\n",
       "\n",
       "    .dataframe tbody tr th {\n",
       "        vertical-align: top;\n",
       "    }\n",
       "\n",
       "    .dataframe thead th {\n",
       "        text-align: right;\n",
       "    }\n",
       "</style>\n",
       "<table border=\"1\" class=\"dataframe\">\n",
       "  <thead>\n",
       "    <tr style=\"text-align: right;\">\n",
       "      <th></th>\n",
       "      <th>502</th>\n",
       "    </tr>\n",
       "  </thead>\n",
       "  <tbody>\n",
       "    <tr>\n",
       "      <th>0</th>\n",
       "      <td>1</td>\n",
       "    </tr>\n",
       "  </tbody>\n",
       "</table>\n",
       "</div>"
      ],
      "text/plain": [
       "   502\n",
       "0    1"
      ]
     },
     "execution_count": 10,
     "metadata": {},
     "output_type": "execute_result"
    }
   ],
   "source": [
    "y=df.iloc[0:1,-1:]\n",
    "y"
   ]
  },
  {
   "cell_type": "code",
   "execution_count": 11,
   "id": "961d4b1d",
   "metadata": {},
   "outputs": [
    {
     "name": "stdout",
     "output_type": "stream",
     "text": [
      "accuracy:    1.0\n",
      "prediction:   Down\n"
     ]
    },
    {
     "data": {
      "image/png": "[encoded data removed]",
      "text/plain": [
       "<Figure size 864x432 with 1 Axes>"
      ]
     },
     "metadata": {
      "needs_background": "light"
     },
     "output_type": "display_data"
    }
   ],
   "source": [
    "prepare(x,y)"
   ]
  },
  {
   "cell_type": "code",
   "execution_count": null,
   "id": "86c6c43b",
   "metadata": {},
   "outputs": [],
   "source": []
  }
 ],
 "metadata": {
  "kernelspec": {
   "display_name": "Python 3 (ipykernel)",
   "language": "python",
   "name": "python3"
  },
  "language_info": {
   "codemirror_mode": {
    "name": "ipython",
    "version": 3
   },
   "file_extension": ".py",
   "mimetype": "text/x-python",
   "name": "python",
   "nbconvert_exporter": "python",
   "pygments_lexer": "ipython3",
   "version": "3.9.7"
  }
 },
 "nbformat": 4,
 "nbformat_minor": 5
}
